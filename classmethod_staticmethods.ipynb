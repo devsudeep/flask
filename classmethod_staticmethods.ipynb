{
 "cells": [
  {
   "cell_type": "code",
   "execution_count": 37,
   "metadata": {},
   "outputs": [],
   "source": [
    "import datetime\n",
    "class Employee(object):\n",
    "    Company = \"\"\n",
    "    def __init__(self, fname, lname):\n",
    "        print(\"__init__ method called\")\n",
    "        self.firstname = fname\n",
    "        self.lastname = lname\n",
    "        \n",
    "    @classmethod\n",
    "    def from_string(cls, name, company):\n",
    "        fname, lname =  name.split('-')\n",
    "        cls.Company =  company\n",
    "        return cls(fname, lname) \n",
    "    \n",
    "    \n",
    "    def is_workday(day):\n",
    "        if day.weekday() ==5 or day.weekday ==6:\n",
    "            return False\n",
    "        return True"
   ]
  },
  {
   "cell_type": "code",
   "execution_count": 41,
   "metadata": {},
   "outputs": [
    {
     "name": "stdout",
     "output_type": "stream",
     "text": [
      "__init__ method called\n",
      "{'firstname': 'sudeep', 'lastname': 'patel'}\n"
     ]
    },
    {
     "data": {
      "text/plain": [
       "True"
      ]
     },
     "execution_count": 41,
     "metadata": {},
     "output_type": "execute_result"
    }
   ],
   "source": [
    "timbaktooemployee = Employee.from_string('sudeep-patel', \"TimbakToo Inc.\")\n",
    "print(emp.__dict__)\n",
    "my_Date = datetime.date(2016, 7, 10)\n",
    "Employee.is_workday(my_Date)"
   ]
  },
  {
   "cell_type": "code",
   "execution_count": 30,
   "metadata": {},
   "outputs": [
    {
     "name": "stdout",
     "output_type": "stream",
     "text": [
      "{'__module__': '__main__', 'Company': 'TimbakToo Inc.', '__init__': <function Employee.__init__ at 0x012F9930>, 'from_string': <classmethod object at 0x012359D0>, '__dict__': <attribute '__dict__' of 'Employee' objects>, '__weakref__': <attribute '__weakref__' of 'Employee' objects>, '__doc__': None}\n",
      "TimbakToo Inc.\n"
     ]
    }
   ],
   "source": [
    "print(Employee.__dict__)\n",
    "print(Employee.Company)"
   ]
  },
  {
   "cell_type": "code",
   "execution_count": 31,
   "metadata": {},
   "outputs": [
    {
     "name": "stdout",
     "output_type": "stream",
     "text": [
      "__init__ method called\n"
     ]
    }
   ],
   "source": [
    "googleIncemp =Employee.from_string('sudeep-patel', \"Google Inc.\")\n"
   ]
  },
  {
   "cell_type": "code",
   "execution_count": 32,
   "metadata": {},
   "outputs": [
    {
     "data": {
      "text/plain": [
       "'Google Inc.'"
      ]
     },
     "execution_count": 32,
     "metadata": {},
     "output_type": "execute_result"
    }
   ],
   "source": [
    "googleIncemp.Company"
   ]
  },
  {
   "cell_type": "code",
   "execution_count": null,
   "metadata": {},
   "outputs": [],
   "source": []
  }
 ],
 "metadata": {
  "kernelspec": {
   "display_name": "Python 3",
   "language": "python",
   "name": "python3"
  },
  "language_info": {
   "codemirror_mode": {
    "name": "ipython",
    "version": 3
   },
   "file_extension": ".py",
   "mimetype": "text/x-python",
   "name": "python",
   "nbconvert_exporter": "python",
   "pygments_lexer": "ipython3",
   "version": "3.6.5"
  }
 },
 "nbformat": 4,
 "nbformat_minor": 4
}
